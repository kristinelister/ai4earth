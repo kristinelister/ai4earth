{
 "cells": [
  {
   "cell_type": "markdown",
   "metadata": {},
   "source": [
    "## Carbon Sequestration Map API Query Demo\n",
    "This demo allows the user to query our predicted map of carbon sequestration rates. Given an area of interest, the API will return summary statistics of the region including mean, min, max, and count. All units are in megagrams of carbon per hectare per year (Mg C/ha/yr).\n",
    "\n",
    "Our model is a prediction map of potential carbon sequestration rates for young, naturally regenerating forests at about 1 kilometer resolution. The map was made by training a Random Forest based machine learning model on forest inventory data using about 80 covariates, with variables covering soil, topography, and climate. \n",
    "\n",
    "This map and our API can be used by governments, land use planners, and restoration organizations to assess the potential carbon sequestration potential from naturally regenerating forests in a given region.\n",
    "\n",
    "This API was put together by the World Resources Institute."
   ]
  },
  {
   "cell_type": "code",
   "execution_count": 1,
   "metadata": {
    "scrolled": true
   },
   "outputs": [
    {
     "data": {
      "application/javascript": [
       "IPython.notebook.set_autosave_interval(0)"
      ]
     },
     "metadata": {},
     "output_type": "display_data"
    },
    {
     "name": "stdout",
     "output_type": "stream",
     "text": [
      "Autosave disabled\n"
     ]
    }
   ],
   "source": [
    "#Import needed libraries\n",
    "#If you do not have the necessary library, uncomment the corresponding line to install via pip\n",
    "#!pip install fiona\n",
    "#!pip install requests\n",
    "#!pip install zipfile\n",
    "import os\n",
    "import io\n",
    "import sys\n",
    "import requests\n",
    "import fiona\n",
    "import zipfile\n",
    "%autosave 0\n"
   ]
  },
  {
   "cell_type": "code",
   "execution_count": 2,
   "metadata": {},
   "outputs": [
    {
     "name": "stdout",
     "output_type": "stream",
     "text": [
      "Copy and paste this file in the form below: ~/Appalachian_forest.shp\n"
     ]
    }
   ],
   "source": [
    "#To use this module, you need to have a shapefile to perform calculations over.\n",
    "#If you do not have one prepared, you can run this module to download and extract a shapefile\n",
    "\n",
    "r = requests.get('https://gfw-files.s3.amazonaws.com/ai4e/Appalachian_forest.zip')\n",
    "z = zipfile.ZipFile(io.BytesIO(r.content))\n",
    "z.extractall(path='~/') # extract to folder\n",
    "filenames =  z.namelist()\n",
    "\n",
    "shapefile = [x for x in filenames if '.shp' in x][0]\n",
    "path_to_shapefile = os.path.join('~/',shapefile)\n",
    "print('Copy and paste this file in the form below: {}'.format(path_to_shapefile))"
   ]
  },
  {
   "cell_type": "code",
   "execution_count": 3,
   "metadata": {},
   "outputs": [
    {
     "name": "stdout",
     "output_type": "stream",
     "text": [
      "Enter the path to your shapefile: ~/Appalachian_forest.shp\n",
      "The following input file was selected: ~/Appalachian_forest.shp\n",
      "\n",
      "Inputted shapefile is okay!\n"
     ]
    }
   ],
   "source": [
    "#Use the form below to enter the path to your shapefile or geojson. This file should be on your local computer\n",
    "#For example: /Users/kristine/WRI/MachineLearning/CarbonAI/ZonalStats/Appalachian_shape/Appalachian_shape.shp\n",
    "path_to_shapefile = input(\"Enter the path to your shapefile: \") \n",
    "print('The following input file was selected: {}\\n'.format(path_to_shapefile))\n",
    "\n",
    "#First check if the shapefile has any errors:    \n",
    "try:\n",
    "    src = fiona.open(path_to_shapefile)\n",
    "    print('Inputted shapefile is okay!')\n",
    "except:\n",
    "    print('Inputted shapefile is not formatted correctly and has erroneous geometries. Please fix the geometries and try again.')\n",
    "    "
   ]
  },
  {
   "cell_type": "code",
   "execution_count": 4,
   "metadata": {},
   "outputs": [],
   "source": [
    "#Define API querying packages\n",
    "def get_my_api(URL):\n",
    "    \n",
    "    try:           \n",
    "        r = requests.get(URL)\n",
    "        if r.ok:\n",
    "            return r.content.decode('utf-8')\n",
    "        else:\n",
    "            return None\n",
    "\n",
    "    except Exception as e:\n",
    "        print('Exception running API: {}'.format(e))\n",
    "        \n",
    "def post_my_api(URL,myobj):\n",
    "    x = requests.post(URL, json = myobj)\n",
    "    return x.content.decode('utf-8')\n"
   ]
  },
  {
   "cell_type": "code",
   "execution_count": 5,
   "metadata": {},
   "outputs": [
    {
     "name": "stdout",
     "output_type": "stream",
     "text": [
      "Is it running?\n",
      "Echo: yes\n"
     ]
    }
   ],
   "source": [
    "#Check that the API is running!\n",
    "result = get_my_api('http://40.90.246.141/v1/my_api/tasker/echo/yes')\n",
    "print('Is it running?')\n",
    "print(result)"
   ]
  },
  {
   "cell_type": "code",
   "execution_count": 6,
   "metadata": {},
   "outputs": [
    {
     "name": "stdout",
     "output_type": "stream",
     "text": [
      "The following file was selected: ~/Appalachian_forest.shp\n",
      "{\"TaskId\": 3384, \"Status\": \"Writing to geojson\", \"Timestamp\": \"2019-11-01 14:29:14\", \"Endpoint\": \"uri\"}\n",
      "\n"
     ]
    }
   ],
   "source": [
    "#Process the shapefile to convert it to a json to send to API\n",
    "print('The following file was selected: {}'.format(path_to_shapefile))\n",
    "features = []\n",
    "with fiona.open(path_to_shapefile) as src:\n",
    "    for f in src:\n",
    "        features.append(f)\n",
    "content = {'features':features}\n",
    "\n",
    "#Post query to API\n",
    "task_id_string = post_my_api('http://40.90.246.141/v1/my_api/tasker/example',content)\n",
    "task_id = int(task_id_string.split(':')[1])\n",
    "\n",
    "#Get information on task\n",
    "result = get_my_api('http://40.90.246.141/v1/my_api/tasker/task/{}'.format(task_id))\n",
    "print(result)\n"
   ]
  },
  {
   "cell_type": "code",
   "execution_count": 8,
   "metadata": {},
   "outputs": [
    {
     "name": "stdout",
     "output_type": "stream",
     "text": [
      "{\"TaskId\": 3384, \"Status\": \"Completed: Here are the statistics for your region(s): [{'min': 1.2026921510696411, 'max': 2.526801586151123, 'mean': 1.543001412508183, 'count': 268848}]\", \"Timestamp\": \"2019-11-01 14:29:14\", \"Endpoint\": \"uri\"}\n",
      "\n"
     ]
    }
   ],
   "source": [
    "#Run this cell to get the status of your query!\n",
    "result = get_my_api('http://40.90.246.141/v1/my_api/tasker/task/{}'.format(task_id))\n",
    "print(result)"
   ]
  },
  {
   "cell_type": "code",
   "execution_count": null,
   "metadata": {},
   "outputs": [],
   "source": []
  },
  {
   "cell_type": "code",
   "execution_count": null,
   "metadata": {},
   "outputs": [],
   "source": []
  },
  {
   "cell_type": "code",
   "execution_count": null,
   "metadata": {},
   "outputs": [],
   "source": []
  }
 ],
 "metadata": {
  "kernelspec": {
   "display_name": "Python 3",
   "language": "python",
   "name": "python3"
  },
  "language_info": {
   "codemirror_mode": {
    "name": "ipython",
    "version": 3
   },
   "file_extension": ".py",
   "mimetype": "text/x-python",
   "name": "python",
   "nbconvert_exporter": "python",
   "pygments_lexer": "ipython3",
   "version": "3.6.8"
  }
 },
 "nbformat": 4,
 "nbformat_minor": 2
}
