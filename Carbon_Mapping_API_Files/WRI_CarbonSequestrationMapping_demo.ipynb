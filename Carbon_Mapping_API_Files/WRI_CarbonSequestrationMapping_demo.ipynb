{
 "cells": [
  {
   "cell_type": "markdown",
   "metadata": {},
   "source": [
    "# Carbon Sequestration Map API Query Demo\n",
    "This demo allows the user to query our predicted map of carbon sequestration rates. Given an area of interest, the API will return summary statistics of the region including mean, min, max, and count. All units are in megagrams of carbon per hectare per year (Mg C/ha/yr).\n",
    "\n",
    "Our model is a prediction map of potential carbon sequestration rates for young, naturally regenerating forests at about 1 kilometer resolution. The map was made by training a Random Forest based machine learning model on forest inventory data using about 80 covariates, with variables covering soil, topography, and climate. \n",
    "\n",
    "This map and our API can be used by governments, land use planners, and restoration organizations to assess the potential carbon sequestration potential from naturally regenerating forests in a given region.\n",
    "\n",
    "This API was put together by the World Resources Institute."
   ]
  },
  {
   "cell_type": "markdown",
   "metadata": {},
   "source": [
    "## Importing necessary libraries and defining constants\n",
    "The code cell below will import the necessary libraries to run this demo notebook"
   ]
  },
  {
   "cell_type": "code",
   "execution_count": 4,
   "metadata": {
    "scrolled": true
   },
   "outputs": [
    {
     "name": "stdout",
     "output_type": "stream",
     "text": [
      "Requirement already satisfied: fiona in /Library/Frameworks/Python.framework/Versions/3.6/lib/python3.6/site-packages (1.8.8)\n",
      "Requirement already satisfied: cligj>=0.5 in /Library/Frameworks/Python.framework/Versions/3.6/lib/python3.6/site-packages (from fiona) (0.5.0)\n",
      "Requirement already satisfied: click-plugins>=1.0 in /Library/Frameworks/Python.framework/Versions/3.6/lib/python3.6/site-packages (from fiona) (1.0.4)\n",
      "Requirement already satisfied: munch in /Library/Frameworks/Python.framework/Versions/3.6/lib/python3.6/site-packages (from fiona) (2.3.2)\n",
      "Requirement already satisfied: six>=1.7 in /Library/Frameworks/Python.framework/Versions/3.6/lib/python3.6/site-packages (from fiona) (1.12.0)\n",
      "Requirement already satisfied: click<8,>=4.0 in /Library/Frameworks/Python.framework/Versions/3.6/lib/python3.6/site-packages (from fiona) (7.0)\n",
      "Requirement already satisfied: attrs>=17 in /Library/Frameworks/Python.framework/Versions/3.6/lib/python3.6/site-packages (from fiona) (18.2.0)\n",
      "\u001b[33mWARNING: You are using pip version 19.1.1, however version 19.3.1 is available.\n",
      "You should consider upgrading via the 'pip install --upgrade pip' command.\u001b[0m\n",
      "Requirement already satisfied: requests in /Library/Frameworks/Python.framework/Versions/3.6/lib/python3.6/site-packages (2.21.0)\n",
      "Requirement already satisfied: certifi>=2017.4.17 in /Library/Frameworks/Python.framework/Versions/3.6/lib/python3.6/site-packages (from requests) (2018.11.29)\n",
      "Requirement already satisfied: idna<2.9,>=2.5 in /Library/Frameworks/Python.framework/Versions/3.6/lib/python3.6/site-packages (from requests) (2.8)\n",
      "Requirement already satisfied: chardet<3.1.0,>=3.0.2 in /Library/Frameworks/Python.framework/Versions/3.6/lib/python3.6/site-packages (from requests) (3.0.4)\n",
      "Requirement already satisfied: urllib3<1.25,>=1.21.1 in /Library/Frameworks/Python.framework/Versions/3.6/lib/python3.6/site-packages (from requests) (1.24.1)\n",
      "\u001b[33mWARNING: You are using pip version 19.1.1, however version 19.3.1 is available.\n",
      "You should consider upgrading via the 'pip install --upgrade pip' command.\u001b[0m\n"
     ]
    },
    {
     "data": {
      "application/javascript": [
       "IPython.notebook.set_autosave_interval(0)"
      ]
     },
     "metadata": {},
     "output_type": "display_data"
    },
    {
     "name": "stdout",
     "output_type": "stream",
     "text": [
      "Autosave disabled\n"
     ]
    }
   ],
   "source": [
    "#Import needed libraries\n",
    "#If you do not have the necessary library, uncomment the corresponding line to install via pip\n",
    "!pip install fiona\n",
    "!pip install requests\n",
    "import os\n",
    "import io\n",
    "import sys\n",
    "import requests\n",
    "import fiona\n",
    "import zipfile\n",
    "%autosave 0\n",
    "\n",
    "\n",
    "post_url = 'http://40.90.246.141/v1/my_api/tasker/example'\n",
    "get_task_url = 'http://40.90.246.141/v1/my_api/tasker/task/{}'\n",
    "echo_url = 'http://40.90.246.141/v1/my_api/tasker/echo/{}'\n",
    "\n",
    "demo_shapefile_link = 'https://gfw-files.s3.amazonaws.com/ai4e/Appalachian_forest.zip'"
   ]
  },
  {
   "cell_type": "markdown",
   "metadata": {},
   "source": [
    "## Functions"
   ]
  },
  {
   "cell_type": "code",
   "execution_count": null,
   "metadata": {},
   "outputs": [],
   "source": [
    "#Define API querying packages\n",
    "def get_my_api(URL):\n",
    "    \n",
    "    try:           \n",
    "        r = requests.get(URL)\n",
    "        if r.ok:\n",
    "            content = r.content.decode('utf-8')\n",
    "            return content.get('Status')\n",
    "        else:\n",
    "            return None\n",
    "\n",
    "    except Exception as e:\n",
    "        print('Exception running API: {}'.format(e))\n",
    "        \n",
    "def post_my_api(URL,myobj):\n",
    "    x = requests.post(URL, json = myobj)\n",
    "    content = x.content.decode('utf-8')\n",
    "    return int(content.split(':')[1])\n",
    "\n",
    "\n"
   ]
  },
  {
   "cell_type": "code",
   "execution_count": null,
   "metadata": {},
   "outputs": [],
   "source": []
  },
  {
   "cell_type": "code",
   "execution_count": null,
   "metadata": {},
   "outputs": [],
   "source": []
  },
  {
   "cell_type": "code",
   "execution_count": null,
   "metadata": {},
   "outputs": [],
   "source": []
  },
  {
   "cell_type": "code",
   "execution_count": null,
   "metadata": {},
   "outputs": [],
   "source": []
  },
  {
   "cell_type": "code",
   "execution_count": null,
   "metadata": {},
   "outputs": [],
   "source": []
  },
  {
   "cell_type": "code",
   "execution_count": null,
   "metadata": {},
   "outputs": [],
   "source": []
  }
 ],
 "metadata": {
  "kernelspec": {
   "display_name": "Python 3",
   "language": "python",
   "name": "python3"
  },
  "language_info": {
   "codemirror_mode": {
    "name": "ipython",
    "version": 3
   },
   "file_extension": ".py",
   "mimetype": "text/x-python",
   "name": "python",
   "nbconvert_exporter": "python",
   "pygments_lexer": "ipython3",
   "version": "3.6.8"
  }
 },
 "nbformat": 4,
 "nbformat_minor": 2
}
